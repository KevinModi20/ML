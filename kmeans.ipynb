{
 "cells": [
  {
   "cell_type": "code",
   "execution_count": 17,
   "metadata": {},
   "outputs": [],
   "source": [
    "dataset = [2, 3, 6, 8, 9, 12, 15, 18, 22]\n",
    "m1 = int(input(\"Enter m1:\"))\n",
    "m2 = int(input(\"Enter m2:\"))\n",
    "avg1 = 0\n",
    "avg2 = 0\n",
    "p1 = 0\n",
    "p2 = 0"
   ]
  },
  {
   "cell_type": "code",
   "execution_count": 18,
   "metadata": {},
   "outputs": [
    {
     "name": "stdout",
     "output_type": "stream",
     "text": [
      "k1    k2\n",
      "[2, 3, 6, 8, 9] [12, 15, 18, 22]\n",
      "k1    k2\n",
      "[2, 3, 6, 8, 9] [12, 15, 18, 22]\n"
     ]
    }
   ],
   "source": [
    "while m1 != p1 and m2 != p2:\n",
    "  j = 1\n",
    "  k1 = []\n",
    "  k2 = []\n",
    "  for i in dataset:\n",
    "    if abs(i - m1) < abs(i - m2):\n",
    "      k1.append(i)\n",
    "    else:\n",
    "      k2.append(i)\n",
    "\n",
    "  avg1 = sum(k1) / len(k1)\n",
    "  avg2 = sum(k2) / len(k2)\n",
    "  print(f\"k{j}    k{j+1}\")\n",
    "  print(k1, k2)\n",
    "  p1 = m1\n",
    "  p2 = m2\n",
    "  m1 = avg1\n",
    "  m2 = avg2\n"
   ]
  },
  {
   "cell_type": "code",
   "execution_count": 19,
   "metadata": {},
   "outputs": [
    {
     "name": "stdout",
     "output_type": "stream",
     "text": [
      "m1 = 5.6,m2=16.75\n"
     ]
    }
   ],
   "source": [
    "print(f\"m1 = {m1},m2={m2}\")"
   ]
  }
 ],
 "metadata": {
  "language_info": {
   "name": "python"
  },
  "orig_nbformat": 4
 },
 "nbformat": 4,
 "nbformat_minor": 2
}
